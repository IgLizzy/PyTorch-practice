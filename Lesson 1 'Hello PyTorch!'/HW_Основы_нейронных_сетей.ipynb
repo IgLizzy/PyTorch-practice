{
  "nbformat": 4,
  "nbformat_minor": 0,
  "metadata": {
    "colab": {
      "provenance": [],
      "gpuType": "T4"
    },
    "kernelspec": {
      "name": "python3",
      "display_name": "Python 3"
    },
    "language_info": {
      "name": "python"
    },
    "accelerator": "GPU"
  },
  "cells": [
    {
      "cell_type": "markdown",
      "source": [
        "Задача: научиться обучать простейшую нейросетевую модель, практически эквивалентную алгоритму линейной регрессии, с помощью метода градиентного спуска в pytorch"
      ],
      "metadata": {
        "id": "wZUHdcsSjs46"
      }
    },
    {
      "cell_type": "markdown",
      "source": [
        "https://www.kaggle.com/datasets/camnugent/california-housing-prices/code?datasetId=5227&searchQuery=NN"
      ],
      "metadata": {
        "id": "CZ453UiRiU2q"
      }
    },
    {
      "cell_type": "code",
      "execution_count": 2,
      "metadata": {
        "id": "aBAqySkB44bp"
      },
      "outputs": [],
      "source": [
        "import numpy as np\n",
        "import pandas as pd\n",
        "import torch\n",
        "import torch.nn as nn\n",
        "from sklearn.model_selection import train_test_split\n",
        "from sklearn.preprocessing import StandardScaler"
      ]
    },
    {
      "cell_type": "code",
      "source": [
        "df = pd.read_csv('housing.csv')"
      ],
      "metadata": {
        "id": "23n_y70B5of9"
      },
      "execution_count": 148,
      "outputs": []
    },
    {
      "cell_type": "code",
      "source": [
        "df = df.dropna().drop('ocean_proximity', axis=1)"
      ],
      "metadata": {
        "id": "o3FMbIsGh1fy"
      },
      "execution_count": 149,
      "outputs": []
    },
    {
      "cell_type": "code",
      "source": [
        "df.info()"
      ],
      "metadata": {
        "colab": {
          "base_uri": "https://localhost:8080/"
        },
        "id": "1OcnRuHcB_Au",
        "outputId": "b4720a9d-7e3e-4958-921e-4e7ba8c1c351"
      },
      "execution_count": 150,
      "outputs": [
        {
          "output_type": "stream",
          "name": "stdout",
          "text": [
            "<class 'pandas.core.frame.DataFrame'>\n",
            "Index: 20433 entries, 0 to 20639\n",
            "Data columns (total 9 columns):\n",
            " #   Column              Non-Null Count  Dtype  \n",
            "---  ------              --------------  -----  \n",
            " 0   longitude           20433 non-null  float64\n",
            " 1   latitude            20433 non-null  float64\n",
            " 2   housing_median_age  20433 non-null  float64\n",
            " 3   total_rooms         20433 non-null  float64\n",
            " 4   total_bedrooms      20433 non-null  float64\n",
            " 5   population          20433 non-null  float64\n",
            " 6   households          20433 non-null  float64\n",
            " 7   median_income       20433 non-null  float64\n",
            " 8   median_house_value  20433 non-null  float64\n",
            "dtypes: float64(9)\n",
            "memory usage: 1.6 MB\n"
          ]
        }
      ]
    },
    {
      "cell_type": "code",
      "source": [
        "features = df.drop(\"median_house_value\", axis=1)\n",
        "labels = df[\"median_house_value\"]"
      ],
      "metadata": {
        "id": "lYFsTQ6dbGx5"
      },
      "execution_count": 151,
      "outputs": []
    },
    {
      "cell_type": "code",
      "source": [
        "scaler = StandardScaler()\n",
        "features = pd.DataFrame(scaler.fit_transform(features), columns=features.columns)"
      ],
      "metadata": {
        "id": "9eF9t4aya1lS"
      },
      "execution_count": 152,
      "outputs": []
    },
    {
      "cell_type": "code",
      "source": [
        "features.values"
      ],
      "metadata": {
        "colab": {
          "base_uri": "https://localhost:8080/"
        },
        "id": "epT4XZDcb8mh",
        "outputId": "168ad55d-f950-4d66-de46-dbdddf9fa43c"
      },
      "execution_count": 153,
      "outputs": [
        {
          "output_type": "execute_result",
          "data": {
            "text/plain": [
              "array([[-1.32731375,  1.05171726,  0.98216331, ..., -0.97331952,\n",
              "        -0.97683327,  2.34516291],\n",
              "       [-1.32232256,  1.04235526, -0.60621017, ...,  0.86133924,\n",
              "         1.67037262,  2.33263161],\n",
              "       [-1.33230494,  1.03767426,  1.85576873, ..., -0.81976943,\n",
              "        -0.84342665,  1.78293943],\n",
              "       ...,\n",
              "       [-0.82320322,  1.77727236, -0.92388486, ..., -0.36882637,\n",
              "        -0.17377773, -1.14317103],\n",
              "       [-0.87311515,  1.77727236, -0.84446619, ..., -0.60356386,\n",
              "        -0.39350628, -1.05513604],\n",
              "       [-0.83318561,  1.74918635, -1.00330353, ..., -0.03348711,\n",
              "         0.07995643, -0.78060586]])"
            ]
          },
          "metadata": {},
          "execution_count": 153
        }
      ]
    },
    {
      "cell_type": "code",
      "source": [
        "X_np = features.to_numpy()\n",
        "y_np = labels.to_numpy()"
      ],
      "metadata": {
        "id": "ymWyIHflf-2c"
      },
      "execution_count": 155,
      "outputs": []
    },
    {
      "cell_type": "code",
      "execution_count": 156,
      "metadata": {
        "id": "10a9d793"
      },
      "outputs": [],
      "source": [
        "X_train, X_test, y_train, y_test = train_test_split(X_np, y_np/1000, test_size=0.2, random_state=42)"
      ]
    },
    {
      "cell_type": "code",
      "source": [
        "X_train.shape, X_test.shape, y_train.shape, y_test.shape"
      ],
      "metadata": {
        "colab": {
          "base_uri": "https://localhost:8080/"
        },
        "id": "qvPTJsgod-Dv",
        "outputId": "09c6f750-cba9-4292-b4fa-4ea2ba5d14ea"
      },
      "execution_count": 157,
      "outputs": [
        {
          "output_type": "execute_result",
          "data": {
            "text/plain": [
              "((16346, 8), (4087, 8), (16346,), (4087,))"
            ]
          },
          "metadata": {},
          "execution_count": 157
        }
      ]
    },
    {
      "cell_type": "code",
      "execution_count": 158,
      "metadata": {
        "id": "c7190fbc"
      },
      "outputs": [],
      "source": [
        "y_train.shape = (y_train.shape[0], 1)\n",
        "y_test.shape = (y_test.shape[0], 1)"
      ]
    },
    {
      "cell_type": "code",
      "source": [
        "X_train.shape, X_test.shape, y_train.shape, y_test.shape"
      ],
      "metadata": {
        "colab": {
          "base_uri": "https://localhost:8080/"
        },
        "id": "bG8uo-JteDDs",
        "outputId": "a1b1bb57-f306-4a42-e394-cfdcb19bfdfd"
      },
      "execution_count": 159,
      "outputs": [
        {
          "output_type": "execute_result",
          "data": {
            "text/plain": [
              "((16346, 8), (4087, 8), (16346, 1), (4087, 1))"
            ]
          },
          "metadata": {},
          "execution_count": 159
        }
      ]
    },
    {
      "cell_type": "code",
      "execution_count": 160,
      "metadata": {
        "id": "6dbc1e52",
        "outputId": "03cb4252-e4dc-4639-c889-34e0f570f2b0",
        "colab": {
          "base_uri": "https://localhost:8080/"
        }
      },
      "outputs": [
        {
          "output_type": "stream",
          "name": "stdout",
          "text": [
            "Эпоха [10/100], Loss: 54267.4648\n",
            "Эпоха [20/100], Loss: 52383.4883\n",
            "Эпоха [30/100], Loss: 50573.6680\n",
            "Эпоха [40/100], Loss: 48835.0391\n",
            "Эпоха [50/100], Loss: 47164.7148\n",
            "Эпоха [60/100], Loss: 45559.9766\n",
            "Эпоха [70/100], Loss: 44018.1992\n",
            "Эпоха [80/100], Loss: 42536.8672\n",
            "Эпоха [90/100], Loss: 41113.5742\n",
            "Эпоха [100/100], Loss: 39746.0195\n",
            "Параметры модели:\n",
            "linear.weight: [[-1.3555669 -2.8468208  2.3197265  2.3286958  0.7195491 -1.2294271\n",
            "   1.2155651 14.412228 ]]\n",
            "linear.bias: [37.279068]\n"
          ]
        }
      ],
      "source": [
        "class LinearRegression(nn.Module):\n",
        "    def __init__(self, input_size, output_size):\n",
        "        super(LinearRegression, self).__init__()\n",
        "        self.linear = nn.Linear(input_size, output_size)\n",
        "\n",
        "    def forward(self, x):\n",
        "        out = self.linear(x)\n",
        "        return out\n",
        "\n",
        "X_train = torch.from_numpy(X_train).float()\n",
        "y_train = torch.from_numpy(y_train).float()\n",
        "X_test = torch.from_numpy(X_test).float()\n",
        "y_test = torch.from_numpy(y_test).float()\n",
        "\n",
        "input_size = X_train.shape[1]\n",
        "output_size = 1\n",
        "learning_rate = 0.001\n",
        "num_epochs = 100\n",
        "\n",
        "model = LinearRegression(input_size, output_size)\n",
        "\n",
        "criterion = nn.MSELoss()\n",
        "\n",
        "optimizer = torch.optim.SGD(model.parameters(), lr=learning_rate)\n",
        "\n",
        "\n",
        "for epoch in range(num_epochs):\n",
        "\n",
        "    outputs = model(X_train)\n",
        "    loss = criterion(outputs, y_train)\n",
        "\n",
        "    optimizer.zero_grad()\n",
        "    loss.backward()\n",
        "    optimizer.step()\n",
        "\n",
        "    if (epoch + 1) % 10 == 0:\n",
        "        print(f'Эпоха [{epoch + 1}/{num_epochs}], Loss: {loss.item():.4f}')\n",
        "\n",
        "print('Параметры модели:')\n",
        "for name, param in model.named_parameters():\n",
        "    if param.requires_grad:\n",
        "        print(f'{name}: {param.data.numpy()}')"
      ]
    },
    {
      "cell_type": "code",
      "execution_count": 161,
      "metadata": {
        "id": "c9f43da8"
      },
      "outputs": [],
      "source": [
        "with torch.no_grad():\n",
        "    predicted = model(X_test).detach().numpy()"
      ]
    },
    {
      "cell_type": "code",
      "execution_count": 165,
      "metadata": {
        "id": "1233f397"
      },
      "outputs": [],
      "source": [
        "def calculate_mse(predicted, actual):\n",
        "\n",
        "    assert len(predicted) == len(actual)\n",
        "\n",
        "    squared_errors = np.square(predicted - actual)\n",
        "    sum_squared_errors = np.sum(squared_errors)\n",
        "    mse = sum_squared_errors / len(predicted)\n",
        "\n",
        "    return mse"
      ]
    },
    {
      "cell_type": "code",
      "execution_count": 166,
      "metadata": {
        "id": "a8e1ce8b",
        "outputId": "79d47cad-0e4f-47f5-fa72-17bc43d26ca7",
        "colab": {
          "base_uri": "https://localhost:8080/"
        }
      },
      "outputs": [
        {
          "output_type": "stream",
          "name": "stdout",
          "text": [
            "TEST MSE: 40331.46268656717\n"
          ]
        }
      ],
      "source": [
        "mse = calculate_mse(predicted, y_test.numpy())\n",
        "print(\"TEST MSE:\", mse)"
      ]
    }
  ]
}