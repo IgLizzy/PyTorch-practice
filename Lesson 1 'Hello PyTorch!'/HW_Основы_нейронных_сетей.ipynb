{
  "nbformat": 4,
  "nbformat_minor": 0,
  "metadata": {
    "colab": {
      "provenance": [],
      "gpuType": "T4"
    },
    "kernelspec": {
      "name": "python3",
      "display_name": "Python 3"
    },
    "language_info": {
      "name": "python"
    },
    "accelerator": "GPU"
  },
  "cells": [
    {
      "cell_type": "markdown",
      "source": [
        "Задача: научиться обучать простейшую нейросетевую модель, практически эквивалентную алгоритму линейной регрессии, с помощью метода градиентного спуска в pytorch"
      ],
      "metadata": {
        "id": "wZUHdcsSjs46"
      }
    },
    {
      "cell_type": "markdown",
      "source": [
        "https://www.kaggle.com/datasets/camnugent/california-housing-prices/code?datasetId=5227&searchQuery=NN"
      ],
      "metadata": {
        "id": "CZ453UiRiU2q"
      }
    },
    {
      "cell_type": "code",
      "execution_count": 170,
      "metadata": {
        "id": "aBAqySkB44bp"
      },
      "outputs": [],
      "source": [
        "import numpy as np\n",
        "import pandas as pd\n",
        "import torch\n",
        "import torch.nn as nn\n",
        "from sklearn.model_selection import train_test_split\n",
        "from sklearn.preprocessing import StandardScaler"
      ]
    },
    {
      "cell_type": "code",
      "source": [
        "df = pd.read_csv('housing.csv')"
      ],
      "metadata": {
        "id": "23n_y70B5of9"
      },
      "execution_count": 171,
      "outputs": []
    },
    {
      "cell_type": "code",
      "source": [
        "# df = df.dropna().drop('ocean_proximity', axis=1)"
      ],
      "metadata": {
        "id": "o3FMbIsGh1fy"
      },
      "execution_count": 149,
      "outputs": []
    },
    {
      "cell_type": "code",
      "source": [
        "df = df.dropna()"
      ],
      "metadata": {
        "id": "T90WgoYjlIaS"
      },
      "execution_count": 172,
      "outputs": []
    },
    {
      "cell_type": "code",
      "source": [
        "df['ocean_proximity'].unique()"
      ],
      "metadata": {
        "colab": {
          "base_uri": "https://localhost:8080/"
        },
        "id": "C9yFveyXk6hv",
        "outputId": "e29de893-24bd-4cda-ce3b-5b11203dc1ba"
      },
      "execution_count": 173,
      "outputs": [
        {
          "output_type": "execute_result",
          "data": {
            "text/plain": [
              "array(['NEAR BAY', '<1H OCEAN', 'INLAND', 'NEAR OCEAN', 'ISLAND'],\n",
              "      dtype=object)"
            ]
          },
          "metadata": {},
          "execution_count": 173
        }
      ]
    },
    {
      "cell_type": "code",
      "source": [
        "df['ocean_proximity'] = df['ocean_proximity'].map({'NEAR BAY':1, '<1H OCEAN':2, 'INLAND':3, 'NEAR OCEAN':4, 'ISLAND':5})"
      ],
      "metadata": {
        "id": "26M1Ot5qkz21"
      },
      "execution_count": 174,
      "outputs": []
    },
    {
      "cell_type": "code",
      "source": [
        "df.info()"
      ],
      "metadata": {
        "colab": {
          "base_uri": "https://localhost:8080/"
        },
        "id": "1OcnRuHcB_Au",
        "outputId": "0fc0805e-2bf2-4f9b-9247-b18cb460d5a1"
      },
      "execution_count": 175,
      "outputs": [
        {
          "output_type": "stream",
          "name": "stdout",
          "text": [
            "<class 'pandas.core.frame.DataFrame'>\n",
            "Index: 20433 entries, 0 to 20639\n",
            "Data columns (total 10 columns):\n",
            " #   Column              Non-Null Count  Dtype  \n",
            "---  ------              --------------  -----  \n",
            " 0   longitude           20433 non-null  float64\n",
            " 1   latitude            20433 non-null  float64\n",
            " 2   housing_median_age  20433 non-null  float64\n",
            " 3   total_rooms         20433 non-null  float64\n",
            " 4   total_bedrooms      20433 non-null  float64\n",
            " 5   population          20433 non-null  float64\n",
            " 6   households          20433 non-null  float64\n",
            " 7   median_income       20433 non-null  float64\n",
            " 8   median_house_value  20433 non-null  float64\n",
            " 9   ocean_proximity     20433 non-null  int64  \n",
            "dtypes: float64(9), int64(1)\n",
            "memory usage: 1.7 MB\n"
          ]
        }
      ]
    },
    {
      "cell_type": "code",
      "source": [
        "features = df.drop(\"median_house_value\", axis=1)\n",
        "labels = df[\"median_house_value\"]"
      ],
      "metadata": {
        "id": "lYFsTQ6dbGx5"
      },
      "execution_count": 176,
      "outputs": []
    },
    {
      "cell_type": "code",
      "source": [
        "scaler = StandardScaler()\n",
        "features = pd.DataFrame(scaler.fit_transform(features), columns=features.columns)"
      ],
      "metadata": {
        "id": "9eF9t4aya1lS"
      },
      "execution_count": 177,
      "outputs": []
    },
    {
      "cell_type": "code",
      "source": [
        "features.values"
      ],
      "metadata": {
        "colab": {
          "base_uri": "https://localhost:8080/"
        },
        "id": "epT4XZDcb8mh",
        "outputId": "83cbd451-471a-4312-b963-1efa542b3d55"
      },
      "execution_count": 178,
      "outputs": [
        {
          "output_type": "execute_result",
          "data": {
            "text/plain": [
              "array([[-1.32731375,  1.05171726,  0.98216331, ..., -0.97683327,\n",
              "         2.34516291, -1.71481644],\n",
              "       [-1.32232256,  1.04235526, -0.60621017, ...,  1.67037262,\n",
              "         2.33263161, -1.71481644],\n",
              "       [-1.33230494,  1.03767426,  1.85576873, ..., -0.84342665,\n",
              "         1.78293943, -1.71481644],\n",
              "       ...,\n",
              "       [-0.82320322,  1.77727236, -0.92388486, ..., -0.17377773,\n",
              "        -1.14317103,  0.62656975],\n",
              "       [-0.87311515,  1.77727236, -0.84446619, ..., -0.39350628,\n",
              "        -1.05513604,  0.62656975],\n",
              "       [-0.83318561,  1.74918635, -1.00330353, ...,  0.07995643,\n",
              "        -0.78060586,  0.62656975]])"
            ]
          },
          "metadata": {},
          "execution_count": 178
        }
      ]
    },
    {
      "cell_type": "code",
      "source": [
        "X_np = features.to_numpy()\n",
        "y_np = labels.to_numpy()"
      ],
      "metadata": {
        "id": "ymWyIHflf-2c"
      },
      "execution_count": 179,
      "outputs": []
    },
    {
      "cell_type": "code",
      "execution_count": 180,
      "metadata": {
        "id": "10a9d793"
      },
      "outputs": [],
      "source": [
        "X_train, X_test, y_train, y_test = train_test_split(X_np, y_np/1000, test_size=0.2, random_state=42)"
      ]
    },
    {
      "cell_type": "code",
      "source": [
        "X_train.shape, X_test.shape, y_train.shape, y_test.shape"
      ],
      "metadata": {
        "colab": {
          "base_uri": "https://localhost:8080/"
        },
        "id": "qvPTJsgod-Dv",
        "outputId": "19a9a1ef-cc05-4913-999c-9c28cb969bad"
      },
      "execution_count": 181,
      "outputs": [
        {
          "output_type": "execute_result",
          "data": {
            "text/plain": [
              "((16346, 9), (4087, 9), (16346,), (4087,))"
            ]
          },
          "metadata": {},
          "execution_count": 181
        }
      ]
    },
    {
      "cell_type": "code",
      "execution_count": 182,
      "metadata": {
        "id": "c7190fbc"
      },
      "outputs": [],
      "source": [
        "y_train.shape = (y_train.shape[0], 1)\n",
        "y_test.shape = (y_test.shape[0], 1)"
      ]
    },
    {
      "cell_type": "code",
      "source": [
        "X_train.shape, X_test.shape, y_train.shape, y_test.shape"
      ],
      "metadata": {
        "colab": {
          "base_uri": "https://localhost:8080/"
        },
        "id": "bG8uo-JteDDs",
        "outputId": "82e2cfce-e12b-4f20-ac6f-0776f040e5d4"
      },
      "execution_count": 183,
      "outputs": [
        {
          "output_type": "execute_result",
          "data": {
            "text/plain": [
              "((16346, 9), (4087, 9), (16346, 1), (4087, 1))"
            ]
          },
          "metadata": {},
          "execution_count": 183
        }
      ]
    },
    {
      "cell_type": "code",
      "execution_count": 184,
      "metadata": {
        "id": "6dbc1e52",
        "outputId": "c4d39235-cd5f-4287-f8b0-15740ae2f696",
        "colab": {
          "base_uri": "https://localhost:8080/"
        }
      },
      "outputs": [
        {
          "output_type": "stream",
          "name": "stdout",
          "text": [
            "Эпоха [10/100], Loss: 54205.2500\n",
            "Эпоха [20/100], Loss: 52300.3828\n",
            "Эпоха [30/100], Loss: 50471.4648\n",
            "Эпоха [40/100], Loss: 48715.4258\n",
            "Эпоха [50/100], Loss: 47029.2734\n",
            "Эпоха [60/100], Loss: 45410.1953\n",
            "Эпоха [70/100], Loss: 43855.4648\n",
            "Эпоха [80/100], Loss: 42362.5000\n",
            "Эпоха [90/100], Loss: 40928.7891\n",
            "Эпоха [100/100], Loss: 39551.9766\n",
            "Параметры модели:\n",
            "linear.weight: [[-1.246897   -2.7881444   2.5287776   2.4479282   0.9156868  -0.79199004\n",
            "   0.7644151  14.238003   -4.221607  ]]\n",
            "linear.bias: [37.417034]\n"
          ]
        }
      ],
      "source": [
        "class LinearRegression(nn.Module):\n",
        "    def __init__(self, input_size, output_size):\n",
        "        super(LinearRegression, self).__init__()\n",
        "        self.linear = nn.Linear(input_size, output_size)\n",
        "\n",
        "    def forward(self, x):\n",
        "        out = self.linear(x)\n",
        "        return out\n",
        "\n",
        "X_train = torch.from_numpy(X_train).float()\n",
        "y_train = torch.from_numpy(y_train).float()\n",
        "X_test = torch.from_numpy(X_test).float()\n",
        "y_test = torch.from_numpy(y_test).float()\n",
        "\n",
        "input_size = X_train.shape[1]\n",
        "output_size = 1\n",
        "learning_rate = 0.001\n",
        "num_epochs = 100\n",
        "\n",
        "model = LinearRegression(input_size, output_size)\n",
        "\n",
        "criterion = nn.MSELoss()\n",
        "\n",
        "optimizer = torch.optim.SGD(model.parameters(), lr=learning_rate)\n",
        "\n",
        "\n",
        "for epoch in range(num_epochs):\n",
        "\n",
        "    outputs = model(X_train)\n",
        "    loss = criterion(outputs, y_train)\n",
        "\n",
        "    optimizer.zero_grad()\n",
        "    loss.backward()\n",
        "    optimizer.step()\n",
        "\n",
        "    if (epoch + 1) % 10 == 0:\n",
        "        print(f'Эпоха [{epoch + 1}/{num_epochs}], Loss: {loss.item():.4f}')\n",
        "\n",
        "print('Параметры модели:')\n",
        "for name, param in model.named_parameters():\n",
        "    if param.requires_grad:\n",
        "        print(f'{name}: {param.data.numpy()}')"
      ]
    },
    {
      "cell_type": "code",
      "execution_count": 185,
      "metadata": {
        "id": "c9f43da8"
      },
      "outputs": [],
      "source": [
        "with torch.no_grad():\n",
        "    predicted = model(X_test).detach().numpy()"
      ]
    },
    {
      "cell_type": "code",
      "execution_count": 186,
      "metadata": {
        "id": "1233f397"
      },
      "outputs": [],
      "source": [
        "def calculate_mse(predicted, actual):\n",
        "\n",
        "    assert len(predicted) == len(actual)\n",
        "\n",
        "    squared_errors = np.square(predicted - actual)\n",
        "    sum_squared_errors = np.sum(squared_errors)\n",
        "    mse = sum_squared_errors / len(predicted)\n",
        "\n",
        "    return mse"
      ]
    },
    {
      "cell_type": "code",
      "execution_count": 187,
      "metadata": {
        "id": "a8e1ce8b",
        "outputId": "c77624e8-9f8f-4cf0-b1de-527f12c4f949",
        "colab": {
          "base_uri": "https://localhost:8080/"
        }
      },
      "outputs": [
        {
          "output_type": "stream",
          "name": "stdout",
          "text": [
            "TEST MSE: 40159.56936628334\n"
          ]
        }
      ],
      "source": [
        "mse = calculate_mse(predicted, y_test.numpy())\n",
        "print(\"TEST MSE:\", mse)"
      ]
    }
  ]
}